{
  "nbformat": 4,
  "nbformat_minor": 0,
  "metadata": {
    "colab": {
      "provenance": [],
      "authorship_tag": "ABX9TyPEG1cfl9eMJ0jolqdivvUJ",
      "include_colab_link": true
    },
    "kernelspec": {
      "name": "python3",
      "display_name": "Python 3"
    },
    "language_info": {
      "name": "python"
    }
  },
  "cells": [
    {
      "cell_type": "markdown",
      "metadata": {
        "id": "view-in-github",
        "colab_type": "text"
      },
      "source": [
        "<a href=\"https://colab.research.google.com/github/JSEFERINO/ESTADISTICA-INFERENCIAL-2025/blob/main/A_Una_Introducci%C3%B3n_a_la_Estad%C3%ADstica_Inferencial_con_Aplicaciones_en_R_y_Python.ipynb\" target=\"_parent\"><img src=\"https://colab.research.google.com/assets/colab-badge.svg\" alt=\"Open In Colab\"/></a>"
      ]
    },
    {
      "cell_type": "markdown",
      "source": [
        "# **Curso de Estadística: Parte III: Inferencial - En construcción**\n",
        "\n",
        "**Autor:** Julio Hurtado Marquez\n",
        "**Correo Electrónico:** juliohurtado210307@gmail.com\n",
        "**Fecha:** Año 2025"
      ],
      "metadata": {
        "id": "mzX-wZ0aAeTb"
      }
    },
    {
      "cell_type": "markdown",
      "source": [
        "\n",
        "# **A. Una Introducción a la Estadística Inferencial con Aplicaciones en R y Python** <a id=\"seccion-1\"></a>\n",
        "\n",
        "## **01. Introducción**\n",
        "\n",
        "_La estadística es, en principio, una ciencia auxiliar. Los procedimientos estadísticos deben ayudar, por lo tanto, a encontrar, verificar y/o rechazar, si es el caso, ciertos aspectos, relaciones, reglas, propiedades, etc., que pueden ser relevantes para algún problema de interés._\n",
        "\n",
        "Así, el trabajo estadístico de un estadístico:\n",
        "\n",
        "+ **Primer paso.** Empieza con un problema práctico de alguna aplicación. Se identificarán ciertas variables de interés para tal problema, considerando una escala adecuada en la cual se deban o puedan medir sus valores: de forma nominal (con etiquetas), ordinal (con orden) o métrica (con distancia); de forma cualitativa (con codificación por símbolos o números) o cuantitativa (con números reales). A veces se distingue, además, entre \"variables independientes ($X$)\" (representando causas, por ejemplo) y \"variables dependientes ($Y$)\" (representando efectos, por ejemplo).\n",
        "\n",
        "+ **Segundo paso.** Consiste en traducir el problema a un modelo probabilístico en el cual las variables de interés se representan por variables aleatorias. Para muchos problemas con variables cualitativas, la elección de una distribución binomial o multinomial es natural. Para otros problemas con variables cuantitativas, puede ser útil y adecuado escoger una distribución normal, por ejemplo. En todo caso, los parámetros $\\theta$ de la distribución deben reflejar los aspectos relevantes de las variables del problema.\n",
        "\n",
        "+ Muchas veces será necesario asegurarse de que el modelo realmente sea el adecuado, usando diferentes métodos en los pasos posteriores, que se esbozan brevemente a continuación. Puede resultar conveniente cambiar o modificar el modelo escogido inicialmente.\n",
        "\n",
        "+ Si $Y$ es la variable aleatoria que representa el problema, su función de densidad o función de distribución de probabilidad $f_Y(y, \\theta)$ se denomina **modelo probabilístico**.\n",
        "\n",
        "+ El trabajo propiamente estadístico empieza con el tercer paso. Este consiste en observar $n$ veces la variable del problema (una sola, por simplicidad), representada por la variable $Y$ del **modelo probabilístico**, por lo general de manera independiente.\n",
        "\n",
        "+ Así se obtiene una muestra $Y = (Y_1, Y_2, ..., Y_n)$ de tamaño $n$, cuya distribución (conjunta) es determinada, según el segundo paso, por $f(y, \\theta)$; que es la función de densidad o de probabilidad en la observación $y = (y_1, y_2, ..., y_n)$, fijando $\\theta$; y que es la **función de verosimilitud** en el parámetro $\\theta$, fijando $y$. Se llama a la muestra junto con su distribución **modelo estadístico**.\n"
      ],
      "metadata": {
        "id": "Vm_hsxjKA4jE"
      }
    },
    {
      "cell_type": "markdown",
      "source": [
        "\n",
        "## **02. Las Estadísticas, Estadísticos o Estimadores Puntuales**\n",
        "\n",
        "+ _Por lo general, no se trabaja con toda la muestra $Y$, sino con funciones $S(Y)$, llamadas **estadísticas**, que consisten en una reducción de la dimensión de la observación._\n",
        "\n",
        "+ Las **Estadísticas Suficientes** son aquellas que permiten una reducción de los datos sin pérdida de información.\n",
        "\n",
        "+ ***Los análisis constituyen los núcleos del trabajo estadístico y pueden clasificarse bajo los tres conceptos siguientes:***\n",
        "\n",
        "1. **Una estimación del parámetro $\\theta$ (puntual)** es una estadística $\\hat{\\theta}(Y)$ cuyo valor $\\hat{\\theta}(y)$, evaluado con base en una observación concreta $y$, debe estimar el valor (no conocido) del parámetro $\\theta$.\n",
        "\n",
        "2. **Un intervalo de confianza**, en cambio, es una estimación que define un intervalo (aleatorio) $IC(Y)$ alrededor de $\\hat{\\theta}(Y)$ que contiene con alta probabilidad, $1 - \\alpha$, al parámetro $\\theta$ (considerado unidimensional, por simplicidad). En este sentido, con base en un dato concreto $y$, el valor de $IC(Y)$ es un intervalo real $IC(y) = \\hat{\\theta}(y) \\pm D(y)$ que da una idea sobre la precisión de la estimación puntual.\n",
        "\n",
        "3. Hacer una prueba de hipótesis. $H_0$ contra una alternativa $H_1$, sobre el parámetro $\\theta$, es un concepto, en principio, muy diferente de los conceptos de estimación, pero hay una relación muy estrecha entre $(1 - \\alpha)$ intervalo de confianza y la región de tales datos posibles $y$ para los cuales se aceptaría $H_0$, siendo $\\alpha$ el error (de tipo I) de rechazar $H_0$ equivocadamente. Esto permitirá construir pruebas de hipótesis a partir de intervalos de confianza y viceversa.\n",
        "\n",
        "+ En conclusión, los cuatro pasos de un trabajo estadístico, esbozados hasta ahora, son:\n",
        "\n",
        "$$\n",
        "\\text{Problema} \\Rightarrow \\text{Modelo} \\Rightarrow \\text{Datos} \\Rightarrow \\text{Análisis}\n",
        "$$\n",
        "\n",
        "+ El esquema anterior debe mantenerse en mente para estudiar y aprender los conceptos fundamentales de Estadística.\n",
        "\n",
        "+ El esquema no es de una sola dirección; debe volverse siempre a los pasos anteriores, comprobando, verificando, modificando y, finalmente, interpretando los resultados de los análisis en términos del problema original.\n"
      ],
      "metadata": {
        "id": "XMkRp2ndAe2A"
      }
    },
    {
      "cell_type": "markdown",
      "source": [],
      "metadata": {
        "id": "r53CzCzG99Mg"
      }
    }
  ]
}