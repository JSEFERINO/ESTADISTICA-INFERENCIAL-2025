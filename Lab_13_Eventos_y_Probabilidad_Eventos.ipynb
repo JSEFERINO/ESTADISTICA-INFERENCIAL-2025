{
  "nbformat": 4,
  "nbformat_minor": 0,
  "metadata": {
    "colab": {
      "provenance": [],
      "authorship_tag": "ABX9TyPyHCL5MT6Pi1QQArciMRXe",
      "include_colab_link": true
    },
    "kernelspec": {
      "name": "python3",
      "display_name": "Python 3"
    },
    "language_info": {
      "name": "python"
    }
  },
  "cells": [
    {
      "cell_type": "markdown",
      "metadata": {
        "id": "view-in-github",
        "colab_type": "text"
      },
      "source": [
        "<a href=\"https://colab.research.google.com/github/JSEFERINO/ESTADISTICA-INFERENCIAL-2025/blob/main/Lab_13_Eventos_y_Probabilidad_Eventos.ipynb\" target=\"_parent\"><img src=\"https://colab.research.google.com/assets/colab-badge.svg\" alt=\"Open In Colab\"/></a>"
      ]
    },
    {
      "cell_type": "markdown",
      "source": [
        "\n",
        "# **Curso de Estadistica: Probabilidad**\n",
        "+ **Julio Hurtado Marquez**\"\n",
        "+ Año 2023\n",
        "   email: juliohurtado210307@gmail.com\n",
        "\n"
      ],
      "metadata": {
        "id": "gdfS43tbtNUP"
      }
    },
    {
      "cell_type": "markdown",
      "source": [
        "#  **1. Experimento Aleatorio - Lanzamiento de un dado (6 caras)**\n",
        "```python\n",
        "\n",
        "\n",
        "import numpy as np\n",
        "import matplotlib.pyplot as plt\n",
        "\n",
        "# Simulación\n",
        "n = 200\n",
        "resultados = np.random.randint(1, 7, size=n)\n",
        "\n",
        "# Gráfico\n",
        "plt.hist(resultados, bins=np.arange(0.5, 7.5, 1), rwidth=0.8, color=\"skyblue\", edgecolor=\"black\")\n",
        "plt.xticks(range(1, 7))\n",
        "plt.title(\"Lanzamiento de un dado - Julio Hurtado\")\n",
        "plt.xlabel(\"Cara\")\n",
        "plt.ylabel(\"Frecuencia\")\n",
        "plt.show()\n"
      ],
      "metadata": {
        "id": "yPWhMsj2y9Rr"
      }
    },
    {
      "cell_type": "markdown",
      "source": [
        "#  **2. Lanzamiento de un dado (6 caras) - Ley de los grandes numeros**\n",
        "```python\n",
        "\n",
        "import numpy as np\n",
        "import matplotlib.pyplot as plt\n",
        "\n",
        "# Simulación\n",
        "n = 20000\n",
        "resultados = np.random.randint(1, 7, size=n)\n",
        "\n",
        "# Count the occurrences of each outcome\n",
        "counts = np.unique(resultados, return_counts=True)\n",
        "outcomes = counts[0]\n",
        "frequencies = counts[1]\n",
        "\n",
        "# Gráfico\n",
        "plt.bar(outcomes, frequencies, color=[\"skyblue\", \"lightcoral\", \"lightgreen\", \"salmon\", \"orchid\", \"lightblue\"], edgecolor=\"black\")\n",
        "plt.xticks(range(1, 7))\n",
        "plt.title(\"Lanzamiento de un dado - Julio Hurtado\")\n",
        "plt.xlabel(\"Cara\")\n",
        "plt.ylabel(\"Frecuencia\")\n",
        "plt.show()\n"
      ],
      "metadata": {
        "id": "V15z47cNzolF"
      }
    },
    {
      "cell_type": "markdown",
      "source": [
        "\n",
        "#  **3. Experimento: Lanzamiento de una moneda**\n",
        "```python\n",
        "resultados = np.random.choice([\"Cara\", \"Sello\"], size=200)\n",
        "\n",
        "# Count the occurrences of each outcome\n",
        "counts = np.unique(resultados, return_counts=True)\n",
        "outcomes = counts[0]\n",
        "frequencies = counts[1]\n",
        "\n",
        "# Create a bar plot\n",
        "plt.bar(outcomes, frequencies, color=[\"skyblue\", \"lightcoral\"], edgecolor=\"black\")\n",
        "plt.title(\"Lanzamiento de una moneda - Hurtado Julio\")\n",
        "plt.xlabel(\"Resultado\")\n",
        "plt.ylabel(\"Frecuencia\")\n",
        "plt.show()"
      ],
      "metadata": {
        "id": "kGG0f41K1Rdn"
      }
    },
    {
      "cell_type": "markdown",
      "source": [
        "\n",
        "#  **4. Experimento: Lanzamiento de una moneda - Ley de los grandes numeros**\n",
        "```python\n",
        "resultados = np.random.choice([\"Cara\", \"Sello\"], size=20000)\n",
        "\n",
        "# Count the occurrences of each outcome\n",
        "counts = np.unique(resultados, return_counts=True)\n",
        "outcomes = counts[0]\n",
        "frequencies = counts[1]\n",
        "\n",
        "# Create a bar plot\n",
        "plt.bar(outcomes, frequencies, color=[\"skyblue\", \"lightcoral\"], edgecolor=\"black\")\n",
        "plt.title(\"Lanzamiento de una moneda - Hurtado Julio\")\n",
        "plt.xlabel(\"Resultado\")\n",
        "plt.ylabel(\"Frecuencia\")\n",
        "plt.show()"
      ],
      "metadata": {
        "id": "SYev5dDM1n8_"
      }
    },
    {
      "cell_type": "markdown",
      "source": [
        "# **5. Extreyendo Bolas de una Urna**\n",
        "```python\n",
        "\n",
        "import numpy as np\n",
        "import matplotlib.pyplot as plt\n",
        "\n",
        "resultados = np.random.choice([\"Azul\",\"Roja\",  \"Verde\"], size=2000, p=[0.5, 0.3, 0.2])\n",
        "\n",
        "# Count the occurrences of each outcome\n",
        "counts = np.unique(resultados, return_counts=True)\n",
        "outcomes = counts[0]\n",
        "frequencies = counts[1]\n",
        "\n",
        "# Create a bar plot with specified colors\n",
        "plt.bar(outcomes, frequencies, color=[\"blue\",\"red\",  \"green\"], edgecolor=\"black\")\n",
        "\n",
        "# Add frequency labels on top of each bar\n",
        "for i, freq in enumerate(frequencies):\n",
        "    plt.text(i, freq, str(freq), ha='center', va='bottom')\n",
        "\n",
        "plt.title(\"Extracción de bola de urna (200 repeticiones)\")\n",
        "plt.xlabel(\"Color\")\n",
        "plt.ylabel(\"Frecuencia\")\n",
        "plt.show()"
      ],
      "metadata": {
        "id": "szzdhwp42iwE"
      }
    },
    {
      "cell_type": "markdown",
      "source": [
        "# **6. Lanzamos 3 monedas muchas veces y contamos el número de caras obtenidas**\n",
        "```python\n",
        "resultados = np.random.binomial(n=3, p=0.5, size=200)\n",
        "\n",
        "# Count the occurrences of each outcome\n",
        "counts = np.unique(resultados, return_counts=True)\n",
        "outcomes = counts[0]\n",
        "frequencies = counts[1]\n",
        "\n",
        "# Create a bar plot with specified colors\n",
        "plt.bar(outcomes, frequencies, color=[\"lightgreen\", \"skyblue\", \"salmon\", \"orchid\"], edgecolor=\"black\")\n",
        "plt.xticks(range(0, 4))\n",
        "plt.title(\"Número de caras en 3 lanzamientos de moneda - Julio Hurtado\")\n",
        "plt.xlabel(\"Número de Caras\")\n",
        "plt.ylabel(\"Frecuencia\")\n",
        "plt.show()"
      ],
      "metadata": {
        "id": "NFqKmpSJ4Qdl"
      }
    },
    {
      "cell_type": "markdown",
      "source": [
        "# **7. Distribución de Probabilidad - Para el Experimento de las Tres monedas**\n",
        "\n",
        "```python\n",
        "\n",
        "from scipy.stats import binom\n",
        "import matplotlib.pyplot as plt\n",
        "\n",
        "n = 3 # number of trials\n",
        "p = 0.5 # probability of success (getting a head)\n",
        "\n",
        "# Possible number of heads\n",
        "outcomes = range(n + 1)\n",
        "\n",
        "# Calculate the probability for each outcome\n",
        "probabilities = [binom.pmf(k, n, p) for k in outcomes]\n",
        "\n",
        "# Create a bar plot of the probability distribution\n",
        "plt.bar(outcomes, probabilities, color=[\"lightgreen\", \"skyblue\", \"salmon\", \"orchid\"], edgecolor=\"black\")\n",
        "plt.xticks(outcomes)\n",
        "plt.title(\"Distribución de Probabilidad - Julio Hurtado\")\n",
        "plt.xlabel(\"Número de Caras\")\n",
        "plt.ylabel(\"Probabilidad\")\n",
        "\n",
        "# Add probability labels on top of each bar\n",
        "for i, prob in enumerate(probabilities):\n",
        "    plt.text(i, prob, f'{prob:.2f}', ha='center', va='bottom')\n",
        "\n",
        "plt.show()"
      ],
      "metadata": {
        "id": "eMNaLrV94Vsc"
      }
    },
    {
      "cell_type": "markdown",
      "source": [
        "# **8. Lanzamos muchas veces un par de dados y contamos cuantas veces sale la suma de resultados**\n",
        "```python\n",
        "\n",
        "dado1 = np.random.randint(1, 7, size=200)\n",
        "dado2 = np.random.randint(1, 7, size=200)\n",
        "resultados = dado1 + dado2\n",
        "\n",
        "# Count the occurrences of each outcome\n",
        "counts = np.unique(resultados, return_counts=True)\n",
        "outcomes = counts[0]\n",
        "frequencies = counts[1]\n",
        "\n",
        "# Create a bar plot with different colors\n",
        "colors = plt.cm.viridis(np.linspace(0, 1, len(outcomes))) # Using a colormap for variety\n",
        "plt.bar(outcomes, frequencies, color=colors, edgecolor=\"black\")\n",
        "\n",
        "# Add frequency labels on top of each bar\n",
        "for i, freq in enumerate(frequencies):\n",
        "    plt.text(outcomes[i], freq, str(freq), ha='center', va='bottom')\n",
        "\n",
        "plt.xticks(range(2, 13))\n",
        "plt.title(\"Suma de dos dados - Julio Hurtado\")\n",
        "plt.xlabel(\"Suma\")\n",
        "plt.ylabel(\"Frecuencia\")\n",
        "plt.show()"
      ],
      "metadata": {
        "id": "wPqdu6CR4WVE"
      }
    },
    {
      "cell_type": "markdown",
      "source": [
        "# **9. Distribución de Probabilidad para Lanzamos muchas veces un par de dados y contamos cuantas veces sale la suma de resultados - Ley de los grandes números**\n",
        "```python\n",
        "from collections import defaultdict\n",
        "import matplotlib.pyplot as plt\n",
        "\n",
        "# Possible outcomes for each die\n",
        "dado_outcomes = range(1, 7)\n",
        "\n",
        "# Calculate the frequency of each sum\n",
        "sum_frequencies = defaultdict(int)\n",
        "for d1 in dado_outcomes:\n",
        "    for d2 in dado_outcomes:\n",
        "        sum_frequencies[d1 + d2] += 1\n",
        "\n",
        "# Calculate the total number of possible outcomes\n",
        "total_outcomes = len(dado_outcomes) * len(dado_outcomes)\n",
        "\n",
        "# Calculate the probability for each sum\n",
        "sum_probabilities = {sum_val: freq / total_outcomes for sum_val, freq in sum_frequencies.items()}\n",
        "\n",
        "# Sort the outcomes for plotting\n",
        "sorted_sums = sorted(sum_probabilities.keys())\n",
        "probabilities = [sum_probabilities[s] for s in sorted_sums]\n",
        "\n",
        "# Create a bar plot of the probability distribution\n",
        "colors = plt.cm.viridis(np.linspace(0, 1, len(sorted_sums))) # Using a colormap for variety\n",
        "plt.bar(sorted_sums, probabilities, color=colors, edgecolor=\"black\")\n",
        "plt.xticks(sorted_sums)\n",
        "plt.title(\"Distribución de Probabilidad (Suma de dos dados) - Julio Hurtado\")\n",
        "plt.xlabel(\"Suma\")\n",
        "plt.ylabel(\"Probabilidad\")\n",
        "\n",
        "# Add probability labels on top of each bar\n",
        "for i, prob in enumerate(probabilities):\n",
        "    plt.text(sorted_sums[i], prob, f'{prob:.3f}', ha='center', va='bottom')\n",
        "\n",
        "plt.show()"
      ],
      "metadata": {
        "id": "yzkkEpAy4Wxd"
      }
    },
    {
      "cell_type": "markdown",
      "source": [
        "# **10. La Ley de los grandes Números -Lanzamiento de una moneda infinitas veces**\n",
        "```python\n",
        "\n",
        "# **a. Ejemplo 1. Lanzamiento de una moneda - La ley de grandes números**\n",
        "# moneda p=P{X=1}=P{'Sale Cara'} = 1/2,  p=P{X=0}=P{'Sale Sello'} = 1/2\n",
        "\n",
        "import random # Libreria a usar\n",
        "import numpy as np\n",
        "import pandas as pd\n",
        "import matplotlib.pyplot as plt\n",
        "\n",
        "promedios = [] # Almacenaaremos los promedios de los lanzamientos\n",
        "\n",
        "for lanzamientos in range(1,10000): # Vamos hacer 10000 lanzamientos\n",
        "    lanzamientos = np.random.choice([0,1], lanzamientos,  p=[1/2,1/2]) # En los lanzamientos solo vamos a obtener {0, 1}\n",
        "    exitos = lanzamientos.mean() # Vamos a hallar el promedio de caras o 1\n",
        "    promedios.append(exitos) # almacenaremos este resultado arriba\n",
        "\n",
        "# graficamente\n",
        "df = pd.DataFrame({ 'promedios' : promedios}) # Construimos el Data Frame\n",
        "\n",
        "df.plot(title='Ley de grandes números',color='b',figsize=(8, 6)) # Nos hara el gráfico de los resultados\n",
        "plt.axhline(0.5) # esta es la linea correspondiente a p=P{X=1}=P{'Sale Cara'} = 1/2\n",
        "plt.xlabel(\"Número de lanzamientos\") #Nombre del eje X\n",
        "plt.ylabel(\"Probabilidad de salir exitos - Julio Hurtado\") # Nombre del eje Y\n",
        "plt.show()\n",
        "\n",
        "print('Un resumen de la data obtenida',df.describe())\n",
        "df.value_counts()\n"
      ],
      "metadata": {
        "id": "ZuXtEPz951aA"
      }
    },
    {
      "cell_type": "markdown",
      "source": [
        "# **11. La Ley de los grandes Números -Lanzamiento de un dado infinitas veces**\n",
        "\n",
        "```python\n",
        "\n",
        "# **b. Ejemplo 2. Lanzamiento de un dado - La ley de grandes números**\n",
        "# Dado p=P{X=1}=P{X=2}=P{X=3}=P{X=4}=P{X=5}=P{X=6}= 1/6\n",
        "# Dado p=P{exito}= 1/6\n",
        "\n",
        "import random # Libreria a usar\n",
        "\n",
        "promedios = [] # Almacenaaremos los promedios de los lanzamientos\n",
        "\n",
        "for lanzamientos in range(1,10000): # Vamos hacer 10000 lanzamientos\n",
        "    lanzamientos = np.random.choice([0,1], lanzamientos, p=[5/6,1/6]) # En los lanzamientos solo vamos a obtener {0, 1}\n",
        "    exitos = lanzamientos.mean() # Vamos a hallar el promedio de caras o 1\n",
        "    promedios.append(exitos) # almacenaremos este resultado arriba\n",
        "\n",
        "# graficamente\n",
        "df = pd.DataFrame({ 'promedios' : promedios}) # Construimos el Data Frame\n",
        "\n",
        "df.plot(title='Ley de grandes números',color='b',figsize=(8, 6)) # Nos hara el gráfico de los resultados\n",
        "plt.axhline(1/6) # esta es la linea correspondiente a p=P{X=1}=P{'Sale Cara'} = 1/2\n",
        "plt.xlabel(\"Número de lanzamientos\") #Nombre del eje X\n",
        "plt.ylabel(\"Probabilidad de salir exito - Julio Hurtado\") # Nombre del eje Y\n",
        "plt.show()\n",
        "\n",
        "print('Un resumen de la data obtenida',df.describe())\n",
        "df.value_counts()"
      ],
      "metadata": {
        "id": "G967MfER518d"
      }
    }
  ]
}