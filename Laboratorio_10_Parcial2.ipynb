{
  "nbformat": 4,
  "nbformat_minor": 0,
  "metadata": {
    "colab": {
      "provenance": [],
      "authorship_tag": "ABX9TyO0eWg8HQfo3ypdogwPXRZn",
      "include_colab_link": true
    },
    "kernelspec": {
      "name": "python3",
      "display_name": "Python 3"
    },
    "language_info": {
      "name": "python"
    }
  },
  "cells": [
    {
      "cell_type": "markdown",
      "metadata": {
        "id": "view-in-github",
        "colab_type": "text"
      },
      "source": [
        "<a href=\"https://colab.research.google.com/github/JSEFERINO/ESTADISTICA-INFERENCIAL-2025/blob/main/Laboratorio_10_Parcial2.ipynb\" target=\"_parent\"><img src=\"https://colab.research.google.com/assets/colab-badge.svg\" alt=\"Open In Colab\"/></a>"
      ]
    },
    {
      "cell_type": "markdown",
      "source": [
        "# **Laboratorio 10. Examen Parcial - Parte 2**\n",
        "# **Escribe el Nombre del Curso**\n",
        "## **Escribe tu nombre completo**\n",
        "> Email:\n",
        "\n",
        "\n",
        "> Código Estudiantil"
      ],
      "metadata": {
        "id": "bQv8p1MlagUC"
      }
    },
    {
      "cell_type": "markdown",
      "source": [
        "# **Temario**"
      ],
      "metadata": {
        "id": "iXtgVI4I6Hcx"
      }
    },
    {
      "cell_type": "markdown",
      "source": [
        "<a name=\"inicio\"></a>\n",
        "\n",
        "\n",
        "## **1.** [Librerias para Trabar en R y Python](#T1)\n",
        "## **2.** [Base de Datos - Estudiando la base de datos - DataMinig](#T2)\n",
        "\n",
        "## **3.** [Estadísticas Descriptivas (Variables Numéricas)](#T3)\n",
        "\n",
        "## **4.** [Variables Cuantitativas - Gráficas BoxPlot e Histograma](#T4)\n",
        "\n",
        "## **5.** [Verificando la Normalidad](#T5)\n",
        "\n",
        "## **6.** [Tomando una muestra aleatoria de tamaño 50](#T6)\n",
        "\n",
        "## **7.** [Tomando mil muestras -  Bootstraps para una variable](#T7)\n",
        "\n",
        "\n",
        "## **8.** [Tomando mil muestras -  Bootstraps para Varias variables](#T8)\n",
        "\n",
        "## **9.** [Regresión Lineal Simple](#T9)\n",
        "\n",
        "## **10.** [Matriz de correlación](#T10)\n",
        "\n",
        "## **11.** [Regresión lineal - MINIMOS CUADRADOS - Least Squares](#T11)\n",
        "\n"
      ],
      "metadata": {
        "id": "STyidlRkIiKV"
      }
    },
    {
      "cell_type": "markdown",
      "source": [
        "\n",
        "[ULTIMO](#ULTIMO)"
      ],
      "metadata": {
        "id": "7N7LLmo9j0VE"
      }
    },
    {
      "cell_type": "markdown",
      "source": [
        "[⬆️ Volver al inicio](#inicio)"
      ],
      "metadata": {
        "id": "HPyl0OCkuwaL"
      }
    },
    {
      "cell_type": "markdown",
      "source": [
        "<a name=\"T1\"></a>\n",
        "## **1. Librerias para Trabar en R y Python**\n"
      ],
      "metadata": {
        "id": "k_Mnx13sTSFE"
      }
    },
    {
      "cell_type": "markdown",
      "source": [
        "\n",
        "```python\n",
        "\n",
        "# @title **A. Librerias para Trabar en Python**\n",
        "import pandas as pd\n",
        "import numpy as np\n",
        "import matplotlib.pyplot as plt\n",
        "%matplotlib inline\n",
        "import seaborn as sns\n",
        "from scipy import stats\n",
        "import warnings\n",
        "warnings.filterwarnings(\"ignore\", category=FutureWarning)\n",
        "from sympy.functions.combinatorial.factorials import factorial\n",
        "import math\n",
        "from math import sqrt\n",
        "from numpy.ma.core import log\n",
        "from sympy import integrate, init_printing\n",
        "from sympy.abc import x\n",
        "print(\"Setup Complete\")\n",
        "\n"
      ],
      "metadata": {
        "id": "1PRjqQfMtDUa"
      }
    },
    {
      "cell_type": "markdown",
      "source": [
        "[⬆️ Volver al inicio](#inicio)"
      ],
      "metadata": {
        "id": "4CgoxMZx8Bvp"
      }
    },
    {
      "cell_type": "markdown",
      "source": [
        "<a name=\"T2\"></a>\n",
        "## **2. Base de Datos - Estudiando la base de datos - DataMinig**\n"
      ],
      "metadata": {
        "id": "AY9By8xQhjYX"
      }
    },
    {
      "cell_type": "markdown",
      "source": [
        "```python\n",
        "# @title **A. Nuestra Base de datos en Pyhton**\n",
        "url = 'https://raw.githubusercontent.com/JSEFERINO/Teoria-de-Probabilidad-MEYCD/main/DATOS202460ULTIMOS.csv'\n",
        "df = pd.read_csv(url,delimiter=';')\n",
        "df"
      ],
      "metadata": {
        "id": "9Ruef2PXuNuz"
      }
    },
    {
      "cell_type": "markdown",
      "source": [
        "```python\n",
        "\n",
        "# @title **B. Cantidad de estudiantes y variables en Python**\n",
        "No_estudiantes_y_Variables = df.shape\n",
        "print('(No estudiantes, No Variables) = ',No_estudiantes_y_Variables)"
      ],
      "metadata": {
        "id": "m_R1qKFzuoKf"
      }
    },
    {
      "cell_type": "markdown",
      "source": [
        "```python\n",
        "# @title **C. Mostrar información del tipo de las  variables y registros nulos (null) en Python**\n",
        "df.info()"
      ],
      "metadata": {
        "id": "-fS8j0-zut7Y"
      }
    },
    {
      "cell_type": "markdown",
      "source": [
        "```python\n",
        "# @title **D. Mostrar los diferentes tipos de cursos en Python**\n",
        "Tipos_cursos = df['CURSO'].unique()\n",
        "print('Cursos=', Tipos_cursos)"
      ],
      "metadata": {
        "id": "EAbE6OU9uum2"
      }
    },
    {
      "cell_type": "markdown",
      "source": [
        "```python\n",
        "# @title **E. Mostrar los diferentes tipos de programas en Python**\n",
        "Tipos_programas = df['PROGRAMA'].unique()\n",
        "print('Programas=', Tipos_programas)"
      ],
      "metadata": {
        "id": "wSS5aydzuvOw"
      }
    },
    {
      "cell_type": "markdown",
      "source": [
        "```python\n",
        "\n",
        "# @title **F. Mostrar los diferentes tipos de estratos en Python**\n",
        "Tipos_estratos = df['ESTRATO'].unique()\n",
        "print('Estratos=', Tipos_estratos)"
      ],
      "metadata": {
        "id": "Bd3eVhDiuv9x"
      }
    },
    {
      "cell_type": "markdown",
      "source": [
        "```python\n",
        "# @title **G. Mostrar la posicion de los estudiantes con \"nan\" en estrato en Python**\n",
        "nan_estrato_positions = df[df['ESTRATO'].isnull()].index.tolist()\n",
        "print(\"Posiciones de estudiantes con 'nan' en estrato:\", nan_estrato_positions)"
      ],
      "metadata": {
        "id": "YRG1R3PsvJSZ"
      }
    },
    {
      "cell_type": "markdown",
      "source": [
        "```python\n",
        "# @title **H. Mostrar la posicion de los estudiantes con \"nan\" en estrato**\n",
        "df['ESTRATO'].head(20)\n",
        "\n"
      ],
      "metadata": {
        "id": "fC8FtuRjvJSa"
      }
    },
    {
      "cell_type": "markdown",
      "source": [
        "```python\n",
        "# @title **I. Reemplazamos el dato perdido con el valosr mas frecuente de la variable**\n",
        "df['ESTRATO'].fillna('II', inplace=True)\n",
        "print(df['ESTRATO'].unique())"
      ],
      "metadata": {
        "id": "LKo_nMVbvJ2Y"
      }
    },
    {
      "cell_type": "markdown",
      "source": [
        "```python\n",
        "# @title **J. Mostrar los diferentes tipos de transporte**\n",
        "Tipos_transporte = df['TRANSPORTE'].unique()\n",
        "print('Transporte = ', Tipos_transporte)\n"
      ],
      "metadata": {
        "id": "zIkXl0v3vJ2Y"
      }
    },
    {
      "cell_type": "markdown",
      "source": [
        "```python\n",
        "# @title **K. Cambia en TRANSPORTE \"El bus que me deja mas cerca\" por \"Bus\"**\n",
        "\n",
        "df['TRANSPORTE'] = df['TRANSPORTE'].replace('El bus que me deja mas cerca', 'Bus')\n",
        "print('Transporte = ', df['TRANSPORTE'].unique())"
      ],
      "metadata": {
        "id": "swOMvsrSvKEY"
      }
    },
    {
      "cell_type": "markdown",
      "source": [
        "```python\n",
        "# @title **L. Mostrar los diferentes tipos de grupos sanguíneos**\n",
        "Tipos_sangre = df['GR_SANGUINEO'].unique()\n",
        "print('Grupo Sanguíneo=', Tipos_sangre)"
      ],
      "metadata": {
        "id": "y10cLNCyvKEZ"
      }
    },
    {
      "cell_type": "markdown",
      "source": [
        "```python\n",
        "# @title **M. Cambia en TRANSPORTE \"El bus que me deja mas cerca\" por \"Bus\"**\n",
        "\n",
        "df['GR_SANGUINEO'] = df['GR_SANGUINEO'].replace('O positivo (O+)', 'O_POS')\n",
        "df['GR_SANGUINEO'] = df['GR_SANGUINEO'].replace('A positivo (A +)', 'A_POS')\n",
        "df['GR_SANGUINEO'] = df['GR_SANGUINEO'].replace('B positivo (B +)', 'B_POS')\n",
        "df['GR_SANGUINEO'] = df['GR_SANGUINEO'].replace('AB positivo (AB +)', 'AB_POS')\n",
        "df['GR_SANGUINEO'] = df['GR_SANGUINEO'].replace('O negativo (O -)', 'O_NEG')\n",
        "df['GR_SANGUINEO'] = df['GR_SANGUINEO'].replace('A negativo (A -)', 'A_NEG')\n",
        "df['GR_SANGUINEO'] = df['GR_SANGUINEO'].replace('B negativo (B -)', 'B_NEG')\n",
        "df['GR_SANGUINEO'] = df['GR_SANGUINEO'].replace('AB negativo (AB -)', 'AB_NEG')\n",
        "print('Grupo Sanguíneo=', df['GR_SANGUINEO'].unique())"
      ],
      "metadata": {
        "id": "CGTs54gTw2Ro"
      }
    },
    {
      "cell_type": "markdown",
      "source": [
        "[⬆️ Volver al inicio](#inicio)"
      ],
      "metadata": {
        "id": "q8dHWgJ78CI7"
      }
    },
    {
      "cell_type": "markdown",
      "source": [
        "<a name=\"T3\"></a>\n",
        "## **3. Estadísticas Descriptivas (Variables Numéricas)**\n"
      ],
      "metadata": {
        "id": "TV6vVNdhU_1u"
      }
    },
    {
      "cell_type": "markdown",
      "source": [
        "```python\n",
        "\n",
        "# @title **A. Estadísticas descriptivas generales**\n",
        "stats_descriptivas = df.describe()\n",
        "# Mostrar estadísticas descriptivas\n",
        "stats_descriptivas"
      ],
      "metadata": {
        "id": "xrj6pofmxwte"
      }
    },
    {
      "cell_type": "markdown",
      "source": [
        "```python\n",
        "# @title **B. Estadísticas descriptivas para variables categóricas**\n",
        "categ_stats = df[['CURSO', 'PROGRAMA', 'URBANO', 'TRANSPORTE', 'SEXO', 'ESTRATO', 'GR_SANGUINEO']].describe()\n",
        "\n",
        "# Mostrar estadísticas descriptivas\n",
        "categ_stats"
      ],
      "metadata": {
        "id": "avt42wzpxwtf"
      }
    },
    {
      "cell_type": "markdown",
      "source": [
        "```python\n",
        "# @title **D. Redefiniendo una variable - Una nueva Variable**\n",
        "df['DEFINITIVA'] = df['PARCIAL 1']\n",
        "df"
      ],
      "metadata": {
        "id": "MAyy9YEpxwtf"
      }
    },
    {
      "cell_type": "markdown",
      "source": [
        "[⬆️ Volver al inicio](#inicio)"
      ],
      "metadata": {
        "id": "rAdpvAzE8Ceq"
      }
    },
    {
      "cell_type": "markdown",
      "source": [
        "<a name=\"T4\"></a>\n",
        "## **4. Variables Cuantitativas - Gráficas BoxPlot e Histograma**\n"
      ],
      "metadata": {
        "id": "STODq8evVMYu"
      }
    },
    {
      "cell_type": "markdown",
      "source": [
        "```python\n",
        "\n",
        "# @title **A. Gráficas BoxPlot e Histograma: DEFINITIVA, EDAD, ESTATURA**\n",
        "plt.figure(figsize=(8, 4))\n",
        "\n",
        "# Histograma definitivas\n",
        "plt.subplot(2, 3, 1)\n",
        "plt.hist(df['DEFINITIVA'], bins=10, color='skyblue')\n",
        "#plt.title('Distribución de las Definitivas')\n",
        "#plt.xlabel('Definitiva (0->5)')\n",
        "plt.ylabel('Frecuencia - Julio Hurtado')\n",
        "\n",
        "# Histograma de edades\n",
        "plt.subplot(2, 3, 2)\n",
        "plt.hist(df['EDAD'], bins=10, color='lightgreen')\n",
        "#plt.title('Distribución de Edad')\n",
        "#plt.xlabel('Edad (Años)')\n",
        "plt.ylabel('Frecuencia - Julio Hurtado')\n",
        "\n",
        "# Boxplot de las definitivas\n",
        "plt.subplot(2, 3, 4)\n",
        "sns.boxplot(data=df, x='DEFINITIVA', color='skyblue')\n",
        "#plt.title('Distribución de Notas Definitivas')\n",
        "plt.xlabel('Definitiva (0->5)')\n",
        "\n",
        "# Boxplot Edad\n",
        "plt.subplot(2, 3, 5)\n",
        "sns.boxplot(data=df, x='EDAD', color='lightgreen')\n",
        "plt.xlabel('Edad (Años - Julio Hurtado)')\n",
        "#plt.title('Distribución de Notas Definitivas')\n",
        "\n",
        "# Histograma de la estatura\n",
        "plt.subplot(2, 3, 3)\n",
        "plt.hist(df['ESTATURA'], bins=10, color='purple')\n",
        "#plt.title('Distribución de Asistencia')\n",
        "plt.ylabel('Frecuencia - Julio Hurtado')\n",
        "#plt.xlabel('Estatura (cm)')\n",
        "\n",
        "# Boxplot de estatura\n",
        "plt.subplot(2, 3, 6)\n",
        "sns.boxplot(data=df, x='ESTATURA', color='purple')\n",
        "#plt.title('Distribución de la Asistencia')\n",
        "plt.xlabel('Estatura (cm) - Julio Hurtado')\n",
        "\n",
        "#ajustar espaciado entre subplot\n",
        "plt.tight_layout()\n",
        "plt.show()\n"
      ],
      "metadata": {
        "id": "ydLtRkqJySLA"
      }
    },
    {
      "cell_type": "markdown",
      "source": [
        "```python\n",
        "\n",
        "# @title **B. Gráficas BoxPlot e Histograma:PARCIAL 2, PESO, ASISTENCIA1**\n",
        "plt.figure(figsize=(8, 4))\n",
        "\n",
        "# Histograma PARCIAL 2\n",
        "plt.subplot(2, 3, 1)\n",
        "plt.hist(df['PARCIAL 2'], bins=10, color='skyblue')\n",
        "#plt.title('Distribución de las Definitivas')\n",
        "#plt.xlabel('Definitiva (0->5)')\n",
        "plt.ylabel('Frecuencia')\n",
        "\n",
        "# Histograma de edades\n",
        "plt.subplot(2, 3, 2)\n",
        "plt.hist(df['PESO'], bins=10, color='lightgreen')\n",
        "#plt.title('Distribución de Edad')\n",
        "#plt.xlabel('Edad (Años)')\n",
        "plt.ylabel('Frecuencia')\n",
        "\n",
        "# Boxplot de las PARCIAL 2\n",
        "plt.subplot(2, 3, 4)\n",
        "sns.boxplot(data=df, x='PARCIAL 2', color='skyblue')\n",
        "#plt.title('Distribución de Notas Definitivas')\n",
        "plt.xlabel('PARCIAL 2 (0->5)')\n",
        "\n",
        "# Boxplot PESO\n",
        "plt.subplot(2, 3, 5)\n",
        "sns.boxplot(data=df, x='PESO', color='lightgreen')\n",
        "plt.xlabel('PESO (Kgs)')\n",
        "#plt.title('Distribución de Notas Definitivas')\n",
        "\n",
        "# Histograma de la ASISTENCIA1\n",
        "plt.subplot(2, 3, 3)\n",
        "plt.hist(df['ASISTENCIA1'], bins=10, color='purple')\n",
        "#plt.title('Distribución de Asistencia')\n",
        "plt.ylabel('Frecuencia - Julio Hurtado')\n",
        "#plt.xlabel('Estatura (cm)')\n",
        "\n",
        "# Boxplot de ASISTENCIA1\n",
        "plt.subplot(2, 3, 6)\n",
        "sns.boxplot(data=df, x='ASISTENCIA1', color='purple')\n",
        "#plt.title('Distribución de la Asistencia')\n",
        "plt.xlabel('ASISTENCIA1 (cm) - Julio Hurtado')\n",
        "\n",
        "#ajustar espaciado entre subplot\n",
        "plt.tight_layout()\n",
        "plt.show()\n",
        "\n"
      ],
      "metadata": {
        "id": "onG6CxFTySLA"
      }
    },
    {
      "cell_type": "markdown",
      "source": [
        "[⬆️ Volver al inicio](#inicio)"
      ],
      "metadata": {
        "id": "DT8Dr2DLuJiU"
      }
    },
    {
      "cell_type": "markdown",
      "source": [
        "<a name=\"T5\"></a>\n",
        "## **5. Verificando la Normalidad**\n",
        "\n",
        "\n"
      ],
      "metadata": {
        "id": "XubkVhlBswgv"
      }
    },
    {
      "cell_type": "markdown",
      "source": [
        "```python\n",
        "# @title **A. Recordando nuestra variables**\n",
        "df.columns"
      ],
      "metadata": {
        "id": "gUdB7fdizwuR"
      }
    },
    {
      "cell_type": "markdown",
      "source": [
        "```python\n",
        "# @title **B. Histograma vs Densidad Normal - PESO**\n",
        "\n",
        "sns.histplot(df['PESO'], kde=True, stat=\"density\", kde_kws=dict(cut=3),\n",
        "    alpha=.4, edgecolor=(1, 1, 1, .4),)\n",
        "\n",
        "plt.show()"
      ],
      "metadata": {
        "id": "EgDXflbZzwuS"
      }
    },
    {
      "cell_type": "markdown",
      "source": [
        "```python\n",
        "\n",
        "\n",
        "# @title **C. Histograma vs Densidad Normal - Todas las variables**\n",
        "plt.figure(figsize=(8, 4))\n",
        "\n",
        "# Boxplot de las ASISTENCIA2\n",
        "plt.subplot(2, 3, 1)\n",
        "sns.histplot(df['ASISTENCIA2'], kde=True, stat=\"density\", kde_kws=dict(cut=3),\n",
        "    alpha=.4, edgecolor=(1, 1, 1, .4),)\n",
        "#plt.title('Distribución de Notas Definitivas')\n",
        "plt.xlabel('ASISTENCIA2 - Julio Hurtado')\n",
        "\n",
        "\n",
        "# Boxplot de las PARCIAL 1\n",
        "plt.subplot(2, 3, 2)\n",
        "sns.histplot(df['PARCIAL 1'], kde=True, stat=\"density\", kde_kws=dict(cut=3),\n",
        "    alpha=.4, edgecolor=(1, 1, 1, .4),)\n",
        "#plt.title('Distribución de Notas Definitivas')\n",
        "plt.xlabel('PARCIAL 1')\n",
        "\n",
        "\n",
        "# Boxplot de las PESO\n",
        "plt.subplot(2, 3, 4)\n",
        "sns.histplot(df['PESO'], kde=True, stat=\"density\", kde_kws=dict(cut=3),\n",
        "    alpha=.4, edgecolor=(1, 1, 1, .4),)\n",
        "#plt.title('Distribución de Notas Definitivas')\n",
        "plt.xlabel('PESO - Julio Hurtado')\n",
        "\n",
        "# Boxplot PESO\n",
        "plt.subplot(2, 3, 5)\n",
        "sns.histplot(df['EDAD'], kde=True, stat=\"density\", kde_kws=dict(cut=3),\n",
        "    alpha=.4, edgecolor=(1, 1, 1, .4),)\n",
        "#plt.title('Distribución de Notas Definitivas')\n",
        "\n",
        "# Histograma de la ASISTENCIA1\n",
        "plt.subplot(2, 3, 3)\n",
        "sns.histplot(df['ESTATURA'], kde=True, stat=\"density\", kde_kws=dict(cut=3),\n",
        "    alpha=.4, edgecolor=(1, 1, 1, .4),)\n",
        "#plt.title('Distribución de Asistencia')\n",
        "plt.ylabel('Frecuencia - Julio Hurtado')\n",
        "#plt.xlabel('Estatura (cm)')\n",
        "\n",
        "# Boxplot de ASISTENCIA1\n",
        "plt.subplot(2, 3, 6)\n",
        "sns.histplot(df['DEFINITIVA'], kde=True, stat=\"density\", kde_kws=dict(cut=3),\n",
        "    alpha=.4, edgecolor=(1, 1, 1, .4),)\n",
        "#plt.title('Distribución de la Asistencia')\n",
        "plt.xlabel('DEFINITIVA - Julio Hurtado')\n",
        "\n",
        "#ajustar espaciado entre subplot\n",
        "plt.tight_layout()\n",
        "plt.show()\n",
        "\n"
      ],
      "metadata": {
        "id": "c_jq4CHlzwuS"
      }
    },
    {
      "cell_type": "markdown",
      "source": [
        "[⬆️ Volver al inicio](#inicio)"
      ],
      "metadata": {
        "id": "_yzSz_HKuK3B"
      }
    },
    {
      "cell_type": "markdown",
      "source": [
        "<a name=\"T6\"></a>\n",
        "## **6. Tomando una muestra aleatoria**\n"
      ],
      "metadata": {
        "id": "zQNmFZsss0JO"
      }
    },
    {
      "cell_type": "markdown",
      "source": [
        "```python\n",
        "# @title **A. Tomando una muestra aleatoria**\n",
        "tamano_muestra = 50\n",
        "muestra_principal = np.random.choice(df['PESO'],\n",
        "                                     tamano_muestra) # choice nos permmite sacar unos datos\n",
        "\n",
        "sns.histplot(muestra_principal, kde=True, stat=\"density\", kde_kws=dict(cut=3),\n",
        "    alpha=.4, edgecolor=(1, 1, 1, .4),)\n",
        "\n",
        "plt.show()\n"
      ],
      "metadata": {
        "id": "7RNoX3R62qaU"
      }
    },
    {
      "cell_type": "markdown",
      "source": [
        "```python\n",
        "\n",
        "# @title **B. Histograma vs Densidad Normal - Todas las variables**\n",
        "plt.figure(figsize=(8, 4))\n",
        "\n",
        "tamano_muestra = 50\n",
        "\n",
        "# Boxplot de las ASISTENCIA2\n",
        "plt.subplot(2, 3, 1)\n",
        "muestra_principal1 = np.random.choice(df['ASISTENCIA2'],\n",
        "                                     tamano_muestra) # choice nos permmite sacar unos datos\n",
        "\n",
        "sns.histplot(muestra_principal1, kde=True, stat=\"density\", kde_kws=dict(cut=3),\n",
        "    alpha=.4, edgecolor=(1, 1, 1, .4),)\n",
        "\n",
        "#plt.title('Distribución de Notas Definitivas')\n",
        "plt.xlabel('ASISTENCIA2 - Julio Hurtado')\n",
        "\n",
        "\n",
        "# Boxplot de las PARCIAL 1\n",
        "plt.subplot(2, 3, 2)\n",
        "muestra_principal2 = np.random.choice(df['PARCIAL 1'],\n",
        "                                     tamano_muestra) # choice nos permmite sacar unos datos\n",
        "\n",
        "sns.histplot(muestra_principal2, kde=True, stat=\"density\", kde_kws=dict(cut=3),\n",
        "    alpha=.4, edgecolor=(1, 1, 1, .4),)\n",
        "#plt.title('Distribución de Notas Definitivas')\n",
        "plt.xlabel('PARCIAL 1 - Julio Hurtado')\n",
        "\n",
        "\n",
        "# Boxplot de las PESO\n",
        "plt.subplot(2, 3, 4)\n",
        "muestra_principal3 = np.random.choice(df['PESO'],\n",
        "                                     tamano_muestra) # choice nos permmite sacar unos datos\n",
        "\n",
        "sns.histplot(muestra_principal3, kde=True, stat=\"density\", kde_kws=dict(cut=3),\n",
        "    alpha=.4, edgecolor=(1, 1, 1, .4),)\n",
        "#plt.title('Distribución de Notas Definitivas')\n",
        "plt.xlabel('PESO - Julio Hurtado')\n",
        "\n",
        "# Boxplot PESO\n",
        "plt.subplot(2, 3, 5)\n",
        "muestra_principal4 = np.random.choice(df['EDAD'],\n",
        "                                     tamano_muestra) # choice nos permmite sacar unos datos\n",
        "\n",
        "sns.histplot(muestra_principal4, kde=True, stat=\"density\", kde_kws=dict(cut=3),\n",
        "    alpha=.4, edgecolor=(1, 1, 1, .4),)\n",
        "#plt.title('Distribución de Notas Definitivas')\n",
        "plt.xlabel('EDAD - Julio Hurtado')\n",
        "\n",
        "\n",
        "# Histograma de la ASISTENCIA1\n",
        "plt.subplot(2, 3, 3)\n",
        "\n",
        "muestra_principal5 = np.random.choice(df['ESTATURA'],\n",
        "                                     tamano_muestra) # choice nos permmite sacar unos datos\n",
        "\n",
        "sns.histplot(muestra_principal5, kde=True, stat=\"density\", kde_kws=dict(cut=3),\n",
        "    alpha=.4, edgecolor=(1, 1, 1, .4),)\n",
        "#plt.title('Distribución de Notas Definitivas')\n",
        "plt.xlabel('ESTATURA - Julio Hurtado')\n",
        "\n",
        "\n",
        "# Boxplot de ASISTENCIA1\n",
        "plt.subplot(2, 3, 6)\n",
        "muestra_principal6 = np.random.choice(df['DEFINITIVA'],\n",
        "                                     tamano_muestra) # choice nos permmite sacar unos datos\n",
        "\n",
        "sns.histplot(muestra_principal6, kde=True, stat=\"density\", kde_kws=dict(cut=3),\n",
        "    alpha=.4, edgecolor=(1, 1, 1, .4),)\n",
        "#plt.title('Distribución de Notas Definitivas')\n",
        "plt.xlabel('DEFINITIVA - Julio Hurtado')\n",
        "\n",
        "#ajustar espaciado entre subplot\n",
        "plt.tight_layout()\n",
        "plt.show()\n",
        "\n"
      ],
      "metadata": {
        "id": "Nlrbmkn22qaV"
      }
    },
    {
      "cell_type": "markdown",
      "source": [
        "[⬆️ Volver al inicio](#inicio)"
      ],
      "metadata": {
        "id": "2kNGIUwGuNOQ"
      }
    },
    {
      "cell_type": "markdown",
      "source": [
        "<a name=\"T7\"></a>\n",
        "## **7. Tomando mil muestras -  para una variable**\n",
        "\n",
        "\n"
      ],
      "metadata": {
        "id": "bu3TM72ds4WO"
      }
    },
    {
      "cell_type": "markdown",
      "source": [
        "```python\n",
        "# **A. Usando la tecnica de BootStrap seleccionaremos 1000 muestras aleatorias y las guardaremos**\n",
        "muestras1 = np.array([]) #En este espacio guardaremos cada muestra tomada\n",
        "num_muestras = 10000 # Este será el tamaño de las muestra\n",
        "for m in range(num_muestras): # Con este procedimiento grantizamos tomar las mil muestras\n",
        "    muestras1 = np.append(muestras1,\n",
        "                         np.random.choice(df['ASISTENCIA2'],\n",
        "                                          tamano_muestra,\n",
        "                                          replace=True)) # guardamos en muestras las seleccionadas de la poblacion inicial\n",
        "muestras1 = muestras1.reshape(-1, tamano_muestra)\n",
        "muestras1.shape, muestras1 # nos muestras el tamaño del archivo y las muestras\n",
        "\n",
        "# **d. Estamos realizando el muestreo de medias**\n",
        "plt.hist(muestras1.mean(axis=1), bins=100, color=\"turquoise\") # Histograma de la distribución muestral de la media\n",
        "plt.xlabel(\"\\nCalificaciones promedio de las muestras\")\n",
        "plt.ylabel(\"Frecuencia\\n - Julio Hurtado\")\n",
        "plt.show()"
      ],
      "metadata": {
        "id": "gRiZOTYg3FWP"
      }
    },
    {
      "cell_type": "markdown",
      "source": [
        "```python\n",
        "# **B. Usando la tecnica de BootStrap seleccionaremos 1000 muestras aleatorias y las guardaremos**\n",
        "sns.histplot(muestras1.mean(axis=1), kde=True, stat=\"density\", kde_kws=dict(cut=3),\n",
        "    alpha=.4, edgecolor=(1, 1, 1, .4),)"
      ],
      "metadata": {
        "id": "gYi5ASCz3FWQ"
      }
    },
    {
      "cell_type": "markdown",
      "source": [
        "[⬆️ Volver al inicio](#inicio)"
      ],
      "metadata": {
        "id": "yDKvvV80uOSC"
      }
    },
    {
      "cell_type": "markdown",
      "source": [
        "<a name=\"T8\"></a>\n",
        "## **8. Tomando mil muestras -  Bootstraps para varias variables**\n"
      ],
      "metadata": {
        "id": "LgAWgdWOs_Qg"
      }
    },
    {
      "cell_type": "markdown",
      "source": [
        "```python\n",
        "# @title **A. Usando la técnica de Bootstrap seleccionaremos 1000 muestras aleatorias y las guardaremos**\n",
        "plt.figure(figsize=(12, 8))\n",
        "\n",
        "# **A. Usando la técnica de Bootstrap seleccionaremos 1000 muestras aleatorias y las guardaremos**\n",
        "# Inicializamos arrays para almacenar las medias de cada muestra\n",
        "medias_asistencia = np.array([])\n",
        "medias_parcial1 = np.array([])\n",
        "medias_peso = np.array([])\n",
        "medias_edad = np.array([])\n",
        "medias_estatura = np.array([])\n",
        "medias_definitiva = np.array([])\n",
        "\n",
        "num_muestras = 1000  # Número de muestras bootstrap\n",
        "tamano_muestra = len(df)  # Tamaño de cada muestra (mismo que el dataset original)\n",
        "\n",
        "for _ in range(num_muestras):\n",
        "    # Muestra bootstrap para cada variable y calculamos su media\n",
        "    muestra_asistencia = np.random.choice(df['ASISTENCIA2'], tamano_muestra, replace=True)\n",
        "    medias_asistencia = np.append(medias_asistencia, np.mean(muestra_asistencia))\n",
        "\n",
        "    muestra_parcial1 = np.random.choice(df['PARCIAL 1'], tamano_muestra, replace=True)\n",
        "    medias_parcial1 = np.append(medias_parcial1, np.mean(muestra_parcial1))\n",
        "\n",
        "    muestra_peso = np.random.choice(df['PESO'], tamano_muestra, replace=True)\n",
        "    medias_peso = np.append(medias_peso, np.mean(muestra_peso))\n",
        "\n",
        "    muestra_edad = np.random.choice(df['EDAD'], tamano_muestra, replace=True)\n",
        "    medias_edad = np.append(medias_edad, np.mean(muestra_edad))\n",
        "\n",
        "    muestra_estatura = np.random.choice(df['ESTATURA'], tamano_muestra, replace=True)\n",
        "    medias_estatura = np.append(medias_estatura, np.mean(muestra_estatura))\n",
        "\n",
        "    muestra_definitiva = np.random.choice(df['DEFINITIVA'], tamano_muestra, replace=True)\n",
        "    medias_definitiva = np.append(medias_definitiva, np.mean(muestra_definitiva))\n",
        "\n",
        "# Visualización de las distribuciones de las medias\n",
        "# Histograma de ASISTENCIA2\n",
        "plt.subplot(2, 3, 1)\n",
        "sns.histplot(medias_asistencia, kde=True, stat=\"density\",\n",
        "             alpha=.4, edgecolor=(1, 1, 1, .4))\n",
        "plt.xlabel('Media de ASISTENCIA2')\n",
        "plt.ylabel('Densidad')\n",
        "\n",
        "# Histograma de PARCIAL 1\n",
        "plt.subplot(2, 3, 2)\n",
        "sns.histplot(medias_parcial1, kde=True, stat=\"density\",\n",
        "             alpha=.4, edgecolor=(1, 1, 1, .4))\n",
        "plt.xlabel('Media de PARCIAL 1')\n",
        "plt.ylabel('Densidad')\n",
        "\n",
        "# Histograma de PESO\n",
        "plt.subplot(2, 3, 3)\n",
        "sns.histplot(medias_peso, kde=True, stat=\"density\",\n",
        "             alpha=.4, edgecolor=(1, 1, 1, .4))\n",
        "plt.xlabel('Media de PESO')\n",
        "plt.ylabel('Densidad')\n",
        "\n",
        "# Histograma de EDAD\n",
        "plt.subplot(2, 3, 4)\n",
        "sns.histplot(medias_edad, kde=True, stat=\"density\",\n",
        "             alpha=.4, edgecolor=(1, 1, 1, .4))\n",
        "plt.xlabel('Media de EDAD')\n",
        "plt.ylabel('Densidad')\n",
        "\n",
        "# Histograma de ESTATURA\n",
        "plt.subplot(2, 3, 5)\n",
        "sns.histplot(medias_estatura, kde=True, stat=\"density\",\n",
        "             alpha=.4, edgecolor=(1, 1, 1, .4))\n",
        "plt.xlabel('Media de ESTATURA')\n",
        "plt.ylabel('Densidad')\n",
        "\n",
        "# Histograma de DEFINITIVA\n",
        "plt.subplot(2, 3, 6)\n",
        "sns.histplot(medias_definitiva, kde=True, stat=\"density\",\n",
        "             alpha=.4, edgecolor=(1, 1, 1, .4))\n",
        "plt.xlabel('Media de DEFINITIVA')\n",
        "plt.ylabel('Densidad')\n",
        "\n",
        "# Ajustar espaciado entre subplots\n",
        "plt.tight_layout()\n",
        "plt.suptitle('Distribución de las medias mediante Bootstrap - Julio Hurtado', y=1.02)\n",
        "plt.show()"
      ],
      "metadata": {
        "id": "QAOlGeBQ3yMR"
      }
    },
    {
      "cell_type": "markdown",
      "source": [
        "[⬆️ Volver al inicio](#inicio)"
      ],
      "metadata": {
        "id": "Nx1rwrGzuQ6T"
      }
    },
    {
      "cell_type": "markdown",
      "source": [
        "<a name=\"T9\"></a>\n",
        "## **9. Regresión Lineal Simple**\n",
        "\n",
        "\n"
      ],
      "metadata": {
        "id": "WZZFaEQXiMjy"
      }
    },
    {
      "cell_type": "markdown",
      "source": [
        "```python\n",
        "# @title **A. Nuestras librerias mas usadas**\n",
        "import numpy as np\n",
        "from numpy.linalg import inv\n",
        "import pandas as pd # para manejar los datos\n",
        "import matplotlib.pyplot as plt # Para visualizar los datos\n",
        "import random\n",
        "import seaborn as sns\n",
        "from sklearn.metrics import r2_score"
      ],
      "metadata": {
        "id": "nMmWikD24WDv"
      }
    },
    {
      "cell_type": "markdown",
      "source": [
        "```python\n",
        "# @title **B.  Vamos hallar la Matriz de Correlaciones de nuestra data**\n",
        "# Seleccionar solo las columnas numéricas para calcular la correlación\n",
        "df3 = df.select_dtypes(include=np.number)\n",
        "df3"
      ],
      "metadata": {
        "id": "eL4CZFWt4WDx"
      }
    },
    {
      "cell_type": "markdown",
      "source": [
        "```python\n",
        "# @title **C.  Vamos eliminar la columna \"NRC\"**\n",
        "\n",
        "df3 = df3.drop(columns=['NRC'])\n",
        "df3"
      ],
      "metadata": {
        "id": "AWYndhnK4WDx"
      }
    },
    {
      "cell_type": "markdown",
      "source": [
        "```python\n",
        "# @title **D.  Calcular la matriz de correlación en el DataFrame numérico**\n",
        "df3.corr().round(2)"
      ],
      "metadata": {
        "id": "cwt9WTrZ4375"
      }
    },
    {
      "cell_type": "markdown",
      "source": [
        "[⬆️ Volver al inicio](#inicio)"
      ],
      "metadata": {
        "id": "-2ZZeqeFiMjy"
      }
    },
    {
      "cell_type": "markdown",
      "source": [
        "<a name=\"T10\"></a>\n",
        "## **10. Matriz de correlación**\n"
      ],
      "metadata": {
        "id": "_mlkFd-1iMjy"
      }
    },
    {
      "cell_type": "markdown",
      "source": [
        "```python\n",
        "# @title **A.  Calcular la matriz de correlación en el DataFrame numérico**\n",
        "df3.corr().round(2)"
      ],
      "metadata": {
        "id": "6bNN0Rdg4376"
      }
    },
    {
      "cell_type": "markdown",
      "source": [
        "[⬆️ Volver al inicio](#inicio)"
      ],
      "metadata": {
        "id": "NQMvWtQciMjz"
      }
    },
    {
      "cell_type": "markdown",
      "source": [
        "<a name=\"T11\"></a>\n",
        "## **11. Regresión lineal - MINIMOS CUADRADOS - Least Squares**\n"
      ],
      "metadata": {
        "id": "mLmlh9EniMjz"
      }
    },
    {
      "cell_type": "markdown",
      "source": [
        "```python\n",
        "# @title **A.  Regresión lineal - MINIMOS CUADRADOS - Least Squares**\n",
        "import statsmodels.api as sm\n",
        "from statsmodels.tools.eval_measures import rmse\n",
        "from statsmodels.stats.outliers_influence import variance_inflation_factor\n"
      ],
      "metadata": {
        "id": "D-S_iFhg5o3W"
      }
    },
    {
      "cell_type": "markdown",
      "source": [
        "```python\n",
        "# @title **B.  Regresión lineal - MINIMOS CUADRADOS - OLS**\n",
        "# nuestras variables independiente y dependiente\n",
        "\n",
        "X = df3['ESTATURA']\n",
        "y = df3['PESO']\n",
        "\n",
        "# para obtener intercepción -- esto es opcional\n",
        "\n",
        "X = sm.add_constant(X)\n",
        "\n",
        "# ajustar el modelo de regresión\n",
        "\n",
        "reg = sm.OLS(y, X).fit()\n",
        "reg.summary()"
      ],
      "metadata": {
        "id": "bu2_cONF5o3X"
      }
    },
    {
      "cell_type": "markdown",
      "source": [
        "```python\n",
        "# @title Diagrama de Regresión y Recta (OLS)\n",
        "\n",
        "import matplotlib.pyplot as plt\n",
        "import seaborn as sns\n",
        "import numpy as np\n",
        "\n",
        "# Define independent and dependent variables (using the already defined df3 and reg from cell qANbJ17MKNNu)\n",
        "datax = df3['ESTATURA']\n",
        "datay = df3['PESO']\n",
        "\n",
        "# Get the OLS regression parameters from the previously calculated 'reg' object\n",
        "p0_ols = reg.params['const']\n",
        "p1_ols = reg.params['ESTATURA']\n",
        "r_squared = reg.rsquared # Get the R-squared value\n",
        "\n",
        "# Define the function for the OLS line\n",
        "def ols_line(x, p0, p1):\n",
        "    return p0 + p1 * x\n",
        "\n",
        "# Plot the scatter plot\n",
        "plt.figure(figsize=(8, 6))\n",
        "plt.scatter(datax, datay, label=\"Datos\", alpha=0.6)\n",
        "\n",
        "# Plot the OLS regression line\n",
        "x_plot = np.linspace(datax.min(), datax.max(), 100)\n",
        "plt.plot(x_plot, ols_line(x_plot, p0_ols, p1_ols), color=\"red\", label=\"Recta de Regresión (OLS)\")\n",
        "\n",
        "# Add the regression equation and R-squared value to the plot\n",
        "equation_text = f'y = {p1_ols:.2f}x + {p0_ols:.2f}'\n",
        "r_squared_text = f'$R^2$ = {r_squared:.2f}'\n",
        "\n",
        "plt.text(0.05, 0.95, equation_text, transform=plt.gca().transAxes, fontsize=12,\n",
        "         verticalalignment='top', bbox=dict(boxstyle='round,pad=0.5', fc='wheat', alpha=0.5))\n",
        "plt.text(0.05, 0.88, r_squared_text, transform=plt.gca().transAxes, fontsize=12,\n",
        "         verticalalignment='top', bbox=dict(boxstyle='round,pad=0.5', fc='wheat', alpha=0.5))\n",
        "\n",
        "plt.xlabel(\"ESTATURA\")\n",
        "plt.ylabel(\"PESO\")\n",
        "plt.title(\"Diagrama de Regresión Lineal (OLS): PESO vs ESTATURA - Julio Hurtado\")\n",
        "plt.legend()\n",
        "plt.grid(True)\n",
        "plt.show()"
      ],
      "metadata": {
        "id": "oOYcMHWE5pl2"
      }
    },
    {
      "cell_type": "markdown",
      "source": [
        "[⬆️ Volver al inicio](#inicio)"
      ],
      "metadata": {
        "id": "sb5qZwQUiMjz"
      }
    }
  ]
}