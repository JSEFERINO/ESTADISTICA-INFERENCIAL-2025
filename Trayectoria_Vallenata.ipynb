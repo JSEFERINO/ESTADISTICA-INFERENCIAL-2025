{
  "nbformat": 4,
  "nbformat_minor": 0,
  "metadata": {
    "colab": {
      "provenance": [],
      "authorship_tag": "ABX9TyOsPnzAFutpl43Iyx8WEdPW",
      "include_colab_link": true
    },
    "kernelspec": {
      "name": "python3",
      "display_name": "Python 3"
    },
    "language_info": {
      "name": "python"
    }
  },
  "cells": [
    {
      "cell_type": "markdown",
      "metadata": {
        "id": "view-in-github",
        "colab_type": "text"
      },
      "source": [
        "<a href=\"https://colab.research.google.com/github/JSEFERINO/ESTADISTICA-INFERENCIAL-2025/blob/main/Trayectoria_Vallenata.ipynb\" target=\"_parent\"><img src=\"https://colab.research.google.com/assets/colab-badge.svg\" alt=\"Open In Colab\"/></a>"
      ]
    },
    {
      "cell_type": "code",
      "execution_count": null,
      "metadata": {
        "id": "p4J8umT5GK1o"
      },
      "outputs": [],
      "source": []
    },
    {
      "cell_type": "markdown",
      "source": [
        "PARTE 1\n",
        "1. Binomio\t https://youtube.com/playlist?list=PLx8z-OSTYWFsbmd5eDTzydhe2yYkWa4p9&si=wZh-il3FIsXb6FZw;\n",
        "2. Betos\t https://www.youtube.com/playlist?list=PLx8z-OSTYWFuaUGPuz3Nk718uFagWcb8T;\n",
        "3. Daniel Celedon\t https://www.youtube.com/playlist?list=PLx8z-OSTYWFuNYJO0hry3r5ADRxGX3e3V;\n",
        "4. Rafael Manjarres\t https://www.youtube.com/playlist?list=PLx8z-OSTYWFsCh-grmt8qwzbpvGg4kDPt;\n",
        "5. Edilberto Daza\t https://www.youtube.com/playlist?list=PLx8z-OSTYWFuWK0F84zNApF_HvlptKUrb;\n",
        "6. Marcos Diaz\t https://www.youtube.com/playlist?list=PLx8z-OSTYWFsu9SxlI5FfOAD145pIaFI_;\n",
        "7. Roberto Calderon\t https://www.youtube.com/playlist?list=PLx8z-OSTYWFsPf4ighophhYocdmLa5KCq;\n",
        "8. Poncho Zuleta\t https://youtube.com/playlist?list=PLx8z-OSTYWFtNhy24TK9a8Yt-icBEeTu9&si=xC7f4CnDBabH-wsz;\n",
        "9. Diomedes: https://youtube.com/playlist?list=PLx8z-OSTYWFudKvTyXmX8kH8_F7j1gfPq&si=rpYnBF7gnhkmEpjK;\n",
        "\n",
        "10. Fiesta Vallenata\t https://youtube.com/playlist?list=PLx8z-OSTYWFvwjMNGwJ8qdWpMsvDcDwbh&si=-cQL_0OXz1YoEQY_;\n",
        "11. Miguel Herrera\t https://youtube.com/playlist?list=PLx8z-OSTYWFv-n-fo26yaXNP1eRI8h14R&si=d4UXY-y7GW9doh5T;\n",
        "12. Juan Segundo Lagos: \thttps://youtube.com/playlist?list=PLx8z-OSTYWFvfa-PHx9Hg3YKSNj3YwIIw&si=kT4j8WtkAtXddl9X;\n",
        "13. Farid Ortiz\t https://youtube.com/playlist?list=PLx8z-OSTYWFtHiP_r69kfN5tnRXX_86v0&si=Kck8hZTpBy4bo_8r;\n",
        "14. Osnaider Brito\t https://youtube.com/playlist?list=PLx8z-OSTYWFuOjnuZmDeVPB7_IGRegKVx&si=XJCIZ_QuF_b0b7ha;\n",
        "15. Romualdo Brito\t https://youtube.com/playlist?list=PLx8z-OSTYWFusWAaA1FX8aFH3NSRiEGFm&si=GcIHXnjy5eQ6t47N;\n",
        "16. Silvio Brito\t https://youtube.com/playlist?list=PLx8z-OSTYWFs0VUi544T08gYSw1V2DhJw&si=B_da8REAgRvXAlxt;\n",
        "17. Adanies Diaz\t https://youtube.com/playlist?list=PLx8z-OSTYWFtb9mZkeYCzIvKmumBXo0zL&si=plEraZ7bGCuneVUd;\n",
        "18. Ivan Villazon\t https://youtube.com/playlist?list=PLx8z-OSTYWFumrG9fBQCIQIZhbbmFGijb&si=q5cHt0RBNJv6NGoO;\n",
        "19. Los Diablitos\t https://youtube.com/playlist?list=PLx8z-OSTYWFvGPpQkujqDVmWumoydNRRw&si=hf6yhJHpV8W9RLuF;\n",
        "20. Otto Serge\t https://youtube.com/playlist?list=PLx8z-OSTYWFtSQWEdBGQLoX3ZqpJ-sU9A&si=JLcI_43BNNyWL6pc;\n",
        "21. Embajadores Vallenatos\t https://youtube.com/playlist?list=PLx8z-OSTYWFu4nsp7vJmDeuLT9JWljizl&si=i26cpU9TofeARUWG;\n",
        "PARTE 2\n",
        "22. Fernando Dangond\t https://youtube.com/playlist?list=PLx8z-OSTYWFuH8N6I6LfpG6NjGKrJspxZ&si=s46GJGPF89iYl5x_;\n",
        "23. Máximo Movil\t https://youtube.com/playlist?list=PLx8z-OSTYWFtrxca68AK6K1IclYJ3s6rv&si=w9pzWTB1FpOoSA7l;\n",
        "24. Chema Moscote\t https://youtube.com/playlist?list=PLx8z-OSTYWFumPrFK9eFDnL7vUniBFPgY&si=DCU4xtEW0SuQARpB;\n",
        "25. Armando Zabaleta\t https://youtube.com/playlist?list=PLx8z-OSTYWFvjWHTIkU91kL2iuHv7RgZV&si=qPUWXyyvkqShiUFL;\n",
        "26. Camilo Namén\t https://youtube.com/playlist?list=PLx8z-OSTYWFtyge6GAP8ImjNx4VDD_H5F&si=B_anGwEqW_GstHIH;\n",
        "27. Rosendo Romero\t https://youtube.com/playlist?list=PLx8z-OSTYWFurjJnEiRrZsn3znWnlpg7F&si=kfVYT7hiv55weiVM;\n",
        "28. Fernando Meneses\t https://youtube.com/playlist?list=PLx8z-OSTYWFuT-iVQxQJvprPDWV0ybh_s&si=BuwhRQlNoKxoHMuY;\n",
        "29. Chiche Ovalle\t https://youtube.com/playlist?list=PLx8z-OSTYWFvJnR0wUgpIoc8bx0ChaZJV&si=Afv6HFwsXGjGpKdQ;\n",
        "30. Beto Murgas\t https://youtube.com/playlist?list=PLx8z-OSTYWFvVkRewupQX7kggwDmffl_-&si=-adXWxIs_LQjXy5j;\n",
        "31. Poncho Zuleta\t https://youtube.com/playlist?list=PLx8z-OSTYWFu5MYS8INET_ugTs0hERBeH&si=wZVg93qen8DREAcY;\n",
        "32. Sergio Moya\t https://youtube.com/playlist?list=PLx8z-OSTYWFsZXo8R0qgmXczkvtzyk9qq&si=XlKvcfesExe8GyST;\n",
        "33. Armando Zabaleta\t https://youtube.com/playlist?list=PLx8z-OSTYWFvjWHTIkU91kL2iuHv7RgZV&si=y4-QTCm_uoZK1Awp;\n",
        "34. Jorge Oñate\t https://youtube.com/playlist?list=PLx8z-OSTYWFtUnDSYQFMKZmU1RKWCNID-&si=htjIx50p0dDgMVUg;\n",
        "35. Jorge Valbuena\t https://youtube.com/playlist?list=PLi3QVLt-dw0JgrnmkqoN0yHrLRAShFViY&si=K4ctfSdhwolX5SuB;\n",
        "36. Omar Geles\t https://youtube.com/playlist?list=PLdPmW4ETJPk2MmIlDa9JWw4nKzOj1vh_S&si=ihrMngL6xANIwAip;\n",
        "37. Luis Eugurrola\t https://youtube.com/playlist?list=PLtYK-ELJ_65bzwFXUUFaNqFNYfRoUN73w&si=XCopiVsui7SHIC1q;\n",
        "38. Fabian Corrales\t https://youtube.com/playlist?list=PLcm7SCzaT5QAYMGEQJSClJC_x-t3A0y0H&si=80_I30Msk_V7b3Nu;\n",
        "39. Hernando Marin\t https://youtube.com/playlist?list=PLi3QVLt-dw0IKVrlfPPtrQQwVHc_GVhOg&si=mHboL0eCgw8XwbqN ;\n",
        "40. Gustavo Gutierrez\t https://youtube.com/playlist?list=PLi3QVLt-dw0JgXYWOS9fVZbgAPMz22-TK&si=bGoe7I9GTuQ5rDym;\n",
        "41. Efren Calderon\t https://youtube.com/playlist?list=PLi3QVLt-dw0Jlt1Re6FUylga80jwpm7Y8&si=nDLhw8S9qV8ViR9p;\n",
        "42. Deimer Marin\t https://youtube.com/playlist?list=PLi3QVLt-dw0Kqw5Wv5ABZNPbFScj-8X2S&si=zNhHhFJ1MLOQ5pFo;\n",
        "43. Marciano Martinez\t https://youtube.com/playlist?list=PLijCOuzObzouRBWQG8cWah4YPveklOPv0&si=XhAcZ4msLAHEotYE;\n",
        "44. OCTAVIO DAZA DAZA\t https://youtube.com/playlist?list=PLOrTCQxkiS8EFcVLzF_tNvta5qUgJoSnd&si=R5V4iv2uoAAhddMR;\n",
        "\n",
        "PARTE 3\n",
        "\n",
        "45. HÉCTOR ZULETA DIAZ\t https://youtube.com/playlist?list=PLOrTCQxkiS8H0ExkjLxqANfOLZ60jNEQF&si=yqdWWnzJSl28tMZD;\n",
        "46. Fabio Zuleta\t https://youtube.com/playlist?list=PLx8z-OSTYWFt_NAgdG7Hl8803u9M6vmqW&si=g8TKQX7D2nZOk4kp;\n",
        "47. Mario Zuleta\t https://youtube.com/playlist?list=PLx8z-OSTYWFuOE4A_TeGj8V3IAwMS86Nm&si=kwJ9i2CiFXH021oo;\n",
        "48. Leandro Diaz\t https://youtube.com/playlist?list=PLeusfIPpivem_3fgK7poBRhk_GUCbHJtU&si=iP4paWuhx61plUjZ;\n",
        "49. FREDDY MOLINA\t CANCIONES: https://youtube.com/playlist?list=PLE840D2CB65529B48&si=LbJz_lgIA1rO31xj;\n",
        "50. Marciano Martinez2\t https://youtube.com/playlist?list=PLijCOuzObzouRBWQG8cWah4YPveklOPv0&si=g3a_BSTvBpdLq9Az;\n",
        "51. Calixto Ochoa\t https://youtube.com/playlist?list=PLeXTyg2cOx5MP_70F-vxJsR8Xlgpu9bQo&si=OiCJZPjt8S1WQbvX;\n",
        "52. Marcos Diaz\t https://youtube.com/playlist?list=PLi3QVLt-dw0IjokEIgOfmvKRGDjk3cqZ-&si=zoldDSK2oi9YhNdh;\n",
        "53. Jacinto Leonardi Vega\t https://youtube.com/playlist?list=PLsQ6-99DvvzjXriIdYukftyWi7GoMRP0e&si=9jLchfLVFJUmbfYy;\n",
        "54. Hernan Urbina\t https://youtube.com/playlist?list=PLi3QVLt-dw0LcSK_k1OB3P4hHThkxruJo&si=244OHzrFQ1iV3Tk7;\n",
        "55. CHICHE MAESTRE\t https://youtube.com/playlist?list=PLvziHuuDqwZgTJltd-q2my-nihyL6T7QQ&si=kHPlSoQ8r2GxORaR;\n",
        "56. Efren Calderon\t https://youtube.com/playlist?list=PLi3QVLt-dw0Jlt1Re6FUylga80jwpm7Y8&si=xfaX97KQ9W-_0ivU;\n",
        "57. Juancho Rois\t https://youtube.com/playlist?list=PLDxosrF4TXj3XlSyEz9o2NmKFLkvmeZ5m&si=hXhBf4Qfd-kMxK9V;\n",
        "58. Franklin Moya\t https://youtube.com/playlist?list=PL7d-YYqofXPZZSN8uwKuq59014rY5-vuZ&si=JRzCvb9b9NRIV73A;\n",
        "59. Fabian Corrales\t https://youtube.com/playlist?list=PLcm7SCzaT5QAYMGEQJSClJC_x-t3A0y0H&si=CiCzNE2JqPR6xS_K;\n",
        "60. Alberto 'Tico' Mercado\t https://youtube.com/playlist?list=PLUrp66-1jUaaqLuASJrN_Gco3ks28Lm1S&si=8jMZ6kQSRgXmsHkl;\n",
        "61. Omar Geles2\t https://youtube.com/playlist?list=PLdPmW4ETJPk2MmIlDa9JWw4nKzOj1vh_S&si=dKlOJcF2LOtg9Ouy;\n",
        "62. Reinaldo \"Chuto\" Diaz\t https://youtube.com/playlist?list=PLi3QVLt-dw0IxGkTi1EoAnyBqnjdo-wmq&si=IxUFeakCQCfC_35h;\n",
        "63. Adolfo Pacheco\t https://youtube.com/playlist?list=PL4DjYzfxTDaCF-1dJggepng7i7QGVOfj8&si=hawJHN5nw_0Nrq2R;\n",
        "64. Adolfo Pacheco 2\t https://youtube.com/playlist?list=OLAK5uy_ngUTU6fY0SPn2Yz9Hbg92yELP_Cxxpu-o&si=1ceGCuiW6dIW4V1P;\n",
        "65. Lisandro Meza\t https://youtube.com/playlist?list=PL4iSbgi3WlCpyCKT3JOlu5w2_Gkn63Vmc&si=xmhFQZPUjzmnNz1V;\n",
        "66. Carlos Huertas\t https://youtube.com/playlist?list=PLx8z-OSTYWFvJsMxBLWOKNjPKCA9SXMxo&si=3wHyuPDS2lSii8FN;\n",
        "67. Aurelio “Yeyo” Núñez\t https://youtube.com/playlist?list=PLTR0sLBbuSCMaMpblYFoBtkI_jBfxdXR9&si=0SvCLLjcNE39MEfs;\n",
        "68. Armando Moscote\t https://youtube.com/playlist?list=PLi3QVLt-dw0KY-UIrNL0wkDIT-EYKspSC&si=QQhS3rxM1kWzLpKJ;\n",
        "69. Rolando Ochoa\t https://youtube.com/playlist?list=PLsr_2LHy9WXyJspVx10P9ADqToFPa01_T&si=ewQ4dWetwoe4jfrN;\n",
        "70. Rosendo Romero\thttps://www.youtube.com/watch?v=HuSqpke4leg;\n"
      ],
      "metadata": {
        "id": "2bMmj-75GLfB"
      }
    },
    {
      "cell_type": "markdown",
      "source": [],
      "metadata": {
        "id": "63OcdWMMGjf6"
      }
    },
    {
      "cell_type": "markdown",
      "source": [],
      "metadata": {
        "id": "9N4fROsyGOHg"
      }
    }
  ]
}